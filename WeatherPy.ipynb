{
 "cells": [
  {
   "cell_type": "code",
   "execution_count": 3,
   "metadata": {},
   "outputs": [],
   "source": [
    "# M6 Project Outline:\n",
    "    # 1. Collect the Data\n",
    "        # Use the NumPy module to generate more than 1,500 random latitudes and longitudes.\n",
    "        # Use the citipy module to list the nearest city to the latitudes and longitudes.\n",
    "        # Use the OpenWeatherMap API to request the current weather data from each unique city in your list.\n",
    "        # Parse the JSON data from the API request.\n",
    "        # Collect the following data from the JSON file and add it to a DataFrame:\n",
    "            # - City, country, and date\n",
    "            # - Latitude and longitude\n",
    "            # - Maximum temperature\n",
    "            # - Humidity\n",
    "            # - Cloudiness\n",
    "            # - Wind speed\n",
    "    \n",
    "    # 2. Exploratory Analysis with Visualization\n",
    "        # Create scatter plots of the weather data for the following comparisons:\n",
    "            # - Latitude versus temperature\n",
    "            # - Latitude versus humidity\n",
    "            # - Latitude versus cloudiness\n",
    "            # - Latitude versus wind speed\n",
    "        # Determine the correlations for the following weather data:\n",
    "            # - Latitude and temperature\n",
    "            # - Latitude and humidity\n",
    "            # - Latitude and cloudiness\n",
    "            # - Latitude and wind speed\n",
    "        # Create a series of heatmaps using the Google Maps and Places API that showcases the following:\n",
    "            # - Latitude and temperature\n",
    "            # - Latitude and humidity\n",
    "            # - Latitude and cloudiness\n",
    "            # - Latitude and wind speed\n",
    "            \n",
    "    # 3. Visualize Travel Data\n",
    "        # Create a heatmap with pop-up markers that can display information on specific cities based on \n",
    "        # a customer’s travel preferences. Complete these steps:\n",
    "            # 1. Filter the Pandas DataFrame based on user inputs for a minimum and maximum temperature.\n",
    "            # 2. Create a heatmap for the new DataFrame.\n",
    "            # 3. Find a hotel from the cities’ coordinates using Google’s Maps and Places API, and Search Nearby feature.\n",
    "            # 4. Store the name of the first hotel in the DataFrame.\n",
    "            # 5. Add pop-up markers to the heatmap that display information about the city, current maximum temperature, \n",
    "            #    and a hotel in the city.\n",
    "    \n",
    "\n",
    "            \n"
   ]
  },
  {
   "cell_type": "code",
   "execution_count": 4,
   "metadata": {},
   "outputs": [],
   "source": [
    "# Import the dependencies.\n",
    "import pandas as pd\n",
    "import matplotlib.pyplot as plt\n",
    "import numpy as np\n",
    "from citipy import citipy"
   ]
  },
  {
   "cell_type": "code",
   "execution_count": 5,
   "metadata": {},
   "outputs": [
    {
     "data": {
      "text/plain": [
       "<zip at 0x11ec255f0>"
      ]
     },
     "execution_count": 5,
     "metadata": {},
     "output_type": "execute_result"
    }
   ],
   "source": [
    "# Create a set of random latitude and longitude combinations.\n",
    "lats = np.random.uniform(low=-90.000, high=90.000, size=1500)\n",
    "lngs = np.random.uniform(low=-180.000, high=180.000, size=1500)\n",
    "lat_lngs = zip(lats, lngs)\n",
    "lat_lngs "
   ]
  },
  {
   "cell_type": "code",
   "execution_count": 6,
   "metadata": {},
   "outputs": [],
   "source": [
    "# Add the latitudes and longitudes to a list.\n",
    "coordinates = list(lat_lngs)"
   ]
  },
  {
   "cell_type": "code",
   "execution_count": 7,
   "metadata": {},
   "outputs": [
    {
     "data": {
      "text/plain": [
       "605"
      ]
     },
     "execution_count": 7,
     "metadata": {},
     "output_type": "execute_result"
    }
   ],
   "source": [
    "# Create a list for holding the cities.\n",
    "cities = []\n",
    "# Identify the nearest city for each latitude and longitude combination.\n",
    "for coordinate in coordinates:\n",
    "    city = citipy.nearest_city(coordinate[0], coordinate[1]).city_name\n",
    "    \n",
    "    # If the city is unique, then we will add it to the cities list.\n",
    "    if city not in cities:\n",
    "        cities.append(city)\n",
    "# Print the city count to confirm sufficient count.\n",
    "len(cities)"
   ]
  },
  {
   "cell_type": "code",
   "execution_count": null,
   "metadata": {},
   "outputs": [],
   "source": []
  }
 ],
 "metadata": {
  "kernelspec": {
   "display_name": "PythonData",
   "language": "python",
   "name": "pythondata"
  },
  "language_info": {
   "codemirror_mode": {
    "name": "ipython",
    "version": 3
   },
   "file_extension": ".py",
   "mimetype": "text/x-python",
   "name": "python",
   "nbconvert_exporter": "python",
   "pygments_lexer": "ipython3",
   "version": "3.7.7"
  }
 },
 "nbformat": 4,
 "nbformat_minor": 4
}
