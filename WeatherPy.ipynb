{
 "cells": [
  {
   "cell_type": "code",
   "execution_count": 2,
   "metadata": {},
   "outputs": [],
   "source": [
    "# Project Overview\n",
    "\n",
    "# 1. Collect the Data\n",
    "    # Use the NumPy module to generate more than 1,500 random latitudes and longitudes.\n",
    "    # Use the citipy module to list the nearest city to the latitudes and longitudes.\n",
    "    # Use the OpenWeatherMap API to request the current weather data from each unique city in your list.\n",
    "    # Parse the JSON data from the API request.\n",
    "    # Collect the following data from the JSON file and add it to a DataFrame:\n",
    "        # - City, country, and date\n",
    "        # - Latitude and longitude\n",
    "        # - Maximum temperature\n",
    "        # - Humidity\n",
    "        # - Cloudiness\n",
    "        # - Wind speed\n",
    "\n",
    "# 2. Exploratory Analysis with Visualization\n",
    "    # Create scatter plots of the weather data for the following comparisons:\n",
    "        # - Latitude versus temperature\n",
    "        # - Latitude versus humidity\n",
    "        # - Latitude versus cloudiness\n",
    "        # - Latitude versus wind speed\n",
    "    # Determine the correlations for the following weather data:\n",
    "        # - Latitude and temperature\n",
    "        # - Latitude and humidity\n",
    "        # - Latitude and cloudiness\n",
    "        # - Latitude and wind speed\n",
    "    # Create a series of heatmaps using the Google Maps and Places API that showcases the following:\n",
    "        # - Latitude and temperature\n",
    "        # - Latitude and humidity\n",
    "        # - Latitude and cloudiness\n",
    "        # - Latitude and wind speed\n",
    "\n",
    "# 3. Visualize Travel Data\n",
    "    # Create a heatmap with pop-up markers that can display information on specific cities based on a customer’s \n",
    "    # travel preferences. Complete these steps:\n",
    "        # 1. Filter the Pandas DataFrame based on user inputs for a minimum and maximum temperature.\n",
    "        # 2. Create a heatmap for the new DataFrame.\n",
    "        # 3. Find a hotel from the cities’ coordinates using Google’s Maps and Places API, and Search Nearby feature.\n",
    "        # 4. Store the name of the first hotel in the DataFrame.\n",
    "        # 5. Add pop-up markers to the heatmap that display information about the city, current maximum temperature, \n",
    "        #    and a hotel in the city."
   ]
  },
  {
   "cell_type": "code",
   "execution_count": 9,
   "metadata": {},
   "outputs": [],
   "source": [
    "# Import the dependencies.\n",
    "import pandas as pd\n",
    "import matplotlib.pyplot as plt\n",
    "import numpy as np\n",
    "from citipy import citipy"
   ]
  },
  {
   "cell_type": "code",
   "execution_count": 10,
   "metadata": {},
   "outputs": [
    {
     "data": {
      "text/plain": [
       "<zip at 0x115f17af0>"
      ]
     },
     "execution_count": 10,
     "metadata": {},
     "output_type": "execute_result"
    }
   ],
   "source": [
    "# Create a set of random latitude and longitude combinations.\n",
    "lats = np.random.uniform(low=-90.000, high=90.000, size=1500)\n",
    "lngs = np.random.uniform(low=-180.000, high=180.000, size=1500)\n",
    "\n",
    "# Pack the latitudes (lats) and longitudes (lngs) as pairs by zipping them (lat_lngs) with the zip() function.\n",
    "lat_lngs = zip(lats, lngs) \n",
    "lat_lngs "
   ]
  },
  {
   "cell_type": "code",
   "execution_count": 11,
   "metadata": {},
   "outputs": [],
   "source": [
    "# Add the latitudes and longitudes to a list.\n",
    "coordinates = list(lat_lngs)"
   ]
  },
  {
   "cell_type": "code",
   "execution_count": 13,
   "metadata": {},
   "outputs": [
    {
     "data": {
      "text/plain": [
       "608"
      ]
     },
     "execution_count": 13,
     "metadata": {},
     "output_type": "execute_result"
    }
   ],
   "source": [
    "# Create a list for holding the cities.\n",
    "cities = []\n",
    "# Identify the nearest city for each latitude and longitude combination.\n",
    "for coordinate in coordinates:\n",
    "    city = citipy.nearest_city(coordinate[0], coordinate[1]).city_name\n",
    "    \n",
    "    # If the city is unique, then we will add it to the cities list.\n",
    "    if city not in cities:\n",
    "        cities.append(city)\n",
    "# Print the city count to confirm sufficient count.\n",
    "len(cities)\n",
    "\n",
    "# 1. We create a cities list to store city names.\n",
    "# 2. We iterate through the coordinates, as in our practice, \n",
    "#    and retrieve the nearest city using the latitude and longitude pair.\n",
    "# 3. We add a decision statement with the logical operator not in to determine whether the found city is already\n",
    "#    in the cities list. If not, then we’ll use the append()function to add it. We are doing this because among \n",
    "#    the 1,500 latitudes and longitudes, there might be duplicates, which will retrieve duplicate cities, \n",
    "#    and we want to be sure we capture only the unique cities."
   ]
  },
  {
   "cell_type": "code",
   "execution_count": null,
   "metadata": {},
   "outputs": [],
   "source": []
  }
 ],
 "metadata": {
  "kernelspec": {
   "display_name": "PythonData",
   "language": "python",
   "name": "pythondata"
  },
  "language_info": {
   "codemirror_mode": {
    "name": "ipython",
    "version": 3
   },
   "file_extension": ".py",
   "mimetype": "text/x-python",
   "name": "python",
   "nbconvert_exporter": "python",
   "pygments_lexer": "ipython3",
   "version": "3.7.7"
  }
 },
 "nbformat": 4,
 "nbformat_minor": 4
}
